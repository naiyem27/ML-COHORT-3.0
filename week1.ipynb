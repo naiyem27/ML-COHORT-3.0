{
 "cells": [
  {
   "cell_type": "code",
   "execution_count": null,
   "metadata": {},
   "outputs": [],
   "source": [
    "#self study task (vedio 8)\n",
    "#task 1\n",
    "number=1\n",
    "i=1\n",
    "while i<=3:\n",
    "    j =1\n",
    "    while j<=3:\n",
    "        print(number,end=\" \")\n",
    "        number+=1\n",
    "        j+=1\n",
    "    print()\n",
    "    i+=1\n",
    "\n",
    "#task 2\n",
    "for i in range(4):\n",
    "    for i in range(4):\n",
    "        print(\"*\",end=\" \")\n",
    "    print()\n",
    "\n",
    "\n",
    "for i in range(5):\n",
    "    for i in range(1,i+1):\n",
    "        print(\"*\",end=\" \")\n",
    "    print()\n",
    "\n",
    "number = 5\n",
    "for i in range(1,5,1):\n",
    "    for j in range(2**(i-1)):\n",
    "        print(i,end=\" \")\n",
    "    print()\n"
   ]
  },
  {
   "cell_type": "code",
   "execution_count": 7,
   "metadata": {},
   "outputs": [
    {
     "name": "stdout",
     "output_type": "stream",
     "text": [
      "[23, 12, 5, 566, 4, 43]\n",
      "[12, 24, 5, 566, 4]\n",
      "{'name': 'naiyem islam'}\n"
     ]
    }
   ],
   "source": [
    "#list,tuple,dictionary\n",
    "\n",
    "#list is mutable,tuple isn't mutable\n",
    "\n",
    "#list\n",
    "\n",
    "data = [23,45,12,5,566,4]\n",
    "data.append(43)   #add an item\n",
    "data.remove(45)   #remove an item\n",
    "print(data)\n",
    "\n",
    "#tuple\n",
    "data1= (12,24,5,566,4)\n",
    "new_data=list(data1)   #convert list\n",
    "print(new_data)\n",
    "\n",
    "#dictionary\n",
    "\n",
    "#var-nam = {key:value, key2:value2}\n",
    "\n",
    "#intitialize a dict\n",
    "person = {\"name\" : \"naiyem\"}   #Here is dictionary\n",
    "\n",
    "#add element\n",
    "person[\"age\"] = 22    #add new key value\n",
    "person[\"name\"] = \"naiyem islam\"   #update value\n",
    "del person[\"age\"]   #delete key-value\n",
    "print(person)\n"
   ]
  },
  {
   "cell_type": "code",
   "execution_count": 35,
   "metadata": {},
   "outputs": [
    {
     "name": "stdout",
     "output_type": "stream",
     "text": [
      "[1, 3, 4, 5, 6]\n",
      "rangpur\n",
      "['khulna', 'dhaka', 'rangpur', 'rajshahi', 'barisal']\n",
      "['khulna', 'dhaka', 'rangpur', 'rajshahi', 'barisal', 'sylhet']\n",
      "('khulna', 'dhaka', 'rangpur', 'rajshahi', 'barisal', 'sylhet')\n",
      "{'math': 83, 'physics': 89, 'chemistry': 85, 'biology': 86}\n",
      "85.75\n"
     ]
    }
   ],
   "source": [
    "#task(list,tuple,dictionary)\n",
    "\n",
    "#task1:list\n",
    "\n",
    "data2 = [1,2,3,4,5]\n",
    "data2.append(6)\n",
    "data2.remove(2)\n",
    "print(data2)\n",
    "\n",
    "#task2:tuples\n",
    "\n",
    "data3 = (\"khulna\",\"dhaka\",\"rangpur\",\"rajshahi\", \"barisal\")\n",
    "print(data3[2])\n",
    "new_data3 = list(data3)\n",
    "print(new_data3)\n",
    "new_data3.append(\"sylhet\")\n",
    "print(new_data3)\n",
    "new_data4 = tuple(new_data3)\n",
    "print(new_data4)\n",
    "\n",
    "#task3:dictionary\n",
    "\n",
    "my_dic ={\n",
    "    \"math\":90,\n",
    "    \"physics\":89,\n",
    "    \"chemistry\" :85\n",
    "}\n",
    "my_dic[\"biology\"] = 86\n",
    "my_dic[\"math\"] = 83\n",
    "avg_mark = sum(my_dic.values()) / len(my_dic)\n",
    "print(my_dic)\n",
    "print(avg_mark)\n",
    "\n",
    "\n",
    "\n"
   ]
  },
  {
   "cell_type": "code",
   "execution_count": 21,
   "metadata": {},
   "outputs": [
    {
     "name": "stdout",
     "output_type": "stream",
     "text": [
      "Md Naiyem Islam\n",
      "Name: md naiyem islam\n",
      "NID Number: 23257453637464553\n",
      "present adress: dinajpur\n",
      "permanent adres: khulna\n",
      "date of birth: 06-10-2003\n",
      "Gender: male\n"
     ]
    }
   ],
   "source": [
    "#function\n",
    "\n",
    "def my_function(fname, mname,lname):\n",
    "    print(fname,mname,lname)\n",
    "#arguement\n",
    "my_function(\"Md\",\"Naiyem\",\"Islam\")\n",
    "\n",
    "#task=NID\n",
    "\n",
    "def NID(Name,nid_number,present_adress,permanent_adress,date_of_birth,gender):\n",
    "    \n",
    "    print(\"Name:\",Name)\n",
    "    print(\"NID Number:\", nid_number)\n",
    "    print(\"present adress:\", present_adress)\n",
    "    print(\"permanent adres:\" ,permanent_adress)\n",
    "    print(\"date of birth:\", date_of_birth)\n",
    "    print(\"Gender:\" ,gender)\n",
    "\n",
    "NID(\n",
    "    Name= \"md naiyem islam\",\n",
    "    nid_number = \"23257453637464553\",\n",
    "    present_adress=\"dinajpur\",\n",
    "    permanent_adress=\"khulna\",\n",
    "    date_of_birth=\"06-10-2003\",\n",
    "    gender=\"male\"\n",
    ")\n"
   ]
  }
 ],
 "metadata": {
  "kernelspec": {
   "display_name": "Python 3",
   "language": "python",
   "name": "python3"
  },
  "language_info": {
   "codemirror_mode": {
    "name": "ipython",
    "version": 3
   },
   "file_extension": ".py",
   "mimetype": "text/x-python",
   "name": "python",
   "nbconvert_exporter": "python",
   "pygments_lexer": "ipython3",
   "version": "3.13.1"
  }
 },
 "nbformat": 4,
 "nbformat_minor": 2
}
